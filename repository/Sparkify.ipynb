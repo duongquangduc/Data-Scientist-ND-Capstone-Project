{
 "cells": [
  {
   "cell_type": "markdown",
   "metadata": {},
   "source": [
    "# Sparkify Project Workspace\n",
    "This workspace contains a tiny subset (128MB) of the full dataset available (12GB). Feel free to use this workspace to build your project, or to explore a smaller subset with Spark before deploying your cluster on the cloud. Instructions for setting up your Spark cluster is included in the last lesson of the Extracurricular Spark Course content.\n",
    "\n",
    "You can follow the steps below to guide your data analysis and model building portion of this project."
   ]
  },
  {
   "cell_type": "code",
   "execution_count": 1,
   "metadata": {},
   "outputs": [],
   "source": [
    "# import common libraries for data transformation with pyspark\n",
    "from pyspark import SparkConf\n",
    "from pyspark.sql import SparkSession\n",
    "import pyspark.sql.functions as F\n",
    "import datetime\n",
    "from pyspark.sql.functions import avg, col, concat, desc, explode, lit, min, max, split, udf, isnull\n",
    "from pyspark.sql.types import IntegerType\n",
    "from pyspark.sql import Window\n",
    "import seaborn as sns\n",
    "\n",
    "# import pyspark.ml package for building machine learning model\n",
    "from pyspark.ml import pipeline\n",
    "from pyspark.ml.evaluation import BinaryClassificationEvaluator, MulticlassClassificationEvaluator\n",
    "from pyspark.ml.regression import LinearRegression\n",
    "from pyspark.ml.classification import LinearSVC, RandomForestClassifier, GBTClassifier\n",
    "from pyspark.ml.tuning import CrossValidator, ParamGridBuilder\n",
    "from pyspark.ml.feature import CountVectorizer, StringIndexer, Normalizer, RegexTokenizer, StandardScaler, VectorAssembler"
   ]
  },
  {
   "cell_type": "code",
   "execution_count": 2,
   "metadata": {},
   "outputs": [],
   "source": [
    "# create a Spark session\n",
    "spark = SparkSession \\\n",
    "        .builder \\\n",
    "        .appName(\"Sparkify\") \\\n",
    "        .getOrCreate()"
   ]
  },
  {
   "cell_type": "markdown",
   "metadata": {},
   "source": [
    "# Load and Clean Dataset\n",
    "In this workspace, the mini-dataset file is `mini_sparkify_event_data.json`. Load and clean the dataset, checking for invalid or missing data - for example, records without userids or sessionids. "
   ]
  },
  {
   "cell_type": "code",
   "execution_count": 3,
   "metadata": {},
   "outputs": [],
   "source": [
    "path = \"mini_sparkify_event_data.json\"\n",
    "spark_df = spark.read.json(path)"
   ]
  },
  {
   "cell_type": "code",
   "execution_count": 4,
   "metadata": {},
   "outputs": [
    {
     "data": {
      "text/plain": [
       "DataFrame[artist: string, auth: string, firstName: string, gender: string, itemInSession: bigint, lastName: string, length: double, level: string, location: string, method: string, page: string, registration: bigint, sessionId: bigint, song: string, status: bigint, ts: bigint, userAgent: string, userId: string]"
      ]
     },
     "execution_count": 4,
     "metadata": {},
     "output_type": "execute_result"
    }
   ],
   "source": [
    "spark_df.persist()"
   ]
  },
  {
   "cell_type": "code",
   "execution_count": 5,
   "metadata": {},
   "outputs": [
    {
     "name": "stdout",
     "output_type": "stream",
     "text": [
      "+--------------+---------+---------+------+-------------+--------+---------+-----+---------------+------+--------+-------------+---------+---------+------+-------------+--------------------+------+\n",
      "|        artist|     auth|firstName|gender|itemInSession|lastName|   length|level|       location|method|    page| registration|sessionId|     song|status|           ts|           userAgent|userId|\n",
      "+--------------+---------+---------+------+-------------+--------+---------+-----+---------------+------+--------+-------------+---------+---------+------+-------------+--------------------+------+\n",
      "|Martha Tilston|Logged In|    Colin|     M|           50| Freeman|277.89016| paid|Bakersfield, CA|   PUT|NextSong|1538173362000|       29|Rockpools|   200|1538352117000|Mozilla/5.0 (Wind...|    30|\n",
      "+--------------+---------+---------+------+-------------+--------+---------+-----+---------------+------+--------+-------------+---------+---------+------+-------------+--------------------+------+\n",
      "only showing top 1 row\n",
      "\n"
     ]
    }
   ],
   "source": [
    "spark_df.show(1)"
   ]
  },
  {
   "cell_type": "markdown",
   "metadata": {},
   "source": [
    "# Exploratory Data Analysis\n",
    "When you're working with the full dataset, perform EDA by loading a small subset of the data and doing basic manipulations within Spark. In this workspace, you are already provided a small subset of data you can explore.\n",
    "\n",
    "### Define Churn\n",
    "\n",
    "Once you've done some preliminary analysis, create a column `Churn` to use as the label for your model. I suggest using the `Cancellation Confirmation` events to define your churn, which happen for both paid and free users. As a bonus task, you can also look into the `Downgrade` events.\n",
    "\n",
    "### Explore Data\n",
    "Once you've defined churn, perform some exploratory data analysis to observe the behavior for users who stayed vs users who churned. You can start by exploring aggregates on these two groups of users, observing how much of a specific action they experienced per a certain time unit or number of songs played."
   ]
  },
  {
   "cell_type": "code",
   "execution_count": 6,
   "metadata": {},
   "outputs": [
    {
     "data": {
      "text/plain": [
       "18"
      ]
     },
     "execution_count": 6,
     "metadata": {},
     "output_type": "execute_result"
    }
   ],
   "source": [
    "len(spark_df.columns)"
   ]
  },
  {
   "cell_type": "code",
   "execution_count": 7,
   "metadata": {},
   "outputs": [
    {
     "data": {
      "text/plain": [
       "286500"
      ]
     },
     "execution_count": 7,
     "metadata": {},
     "output_type": "execute_result"
    }
   ],
   "source": [
    "spark_df.count()"
   ]
  },
  {
   "cell_type": "code",
   "execution_count": 8,
   "metadata": {},
   "outputs": [
    {
     "name": "stdout",
     "output_type": "stream",
     "text": [
      "root\n",
      " |-- artist: string (nullable = true)\n",
      " |-- auth: string (nullable = true)\n",
      " |-- firstName: string (nullable = true)\n",
      " |-- gender: string (nullable = true)\n",
      " |-- itemInSession: long (nullable = true)\n",
      " |-- lastName: string (nullable = true)\n",
      " |-- length: double (nullable = true)\n",
      " |-- level: string (nullable = true)\n",
      " |-- location: string (nullable = true)\n",
      " |-- method: string (nullable = true)\n",
      " |-- page: string (nullable = true)\n",
      " |-- registration: long (nullable = true)\n",
      " |-- sessionId: long (nullable = true)\n",
      " |-- song: string (nullable = true)\n",
      " |-- status: long (nullable = true)\n",
      " |-- ts: long (nullable = true)\n",
      " |-- userAgent: string (nullable = true)\n",
      " |-- userId: string (nullable = true)\n",
      "\n"
     ]
    }
   ],
   "source": [
    "spark_df.printSchema()"
   ]
  },
  {
   "cell_type": "code",
   "execution_count": 9,
   "metadata": {},
   "outputs": [
    {
     "data": {
      "text/plain": [
       "0"
      ]
     },
     "execution_count": 9,
     "metadata": {},
     "output_type": "execute_result"
    }
   ],
   "source": [
    "spark_df.where(col('userId').isNull()).count()"
   ]
  },
  {
   "cell_type": "code",
   "execution_count": 10,
   "metadata": {},
   "outputs": [
    {
     "data": {
      "text/plain": [
       "226"
      ]
     },
     "execution_count": 10,
     "metadata": {},
     "output_type": "execute_result"
    }
   ],
   "source": [
    "# count the number of users in dataset\n",
    "spark_df.select('userId').dropDuplicates().count()"
   ]
  },
  {
   "cell_type": "code",
   "execution_count": 11,
   "metadata": {},
   "outputs": [
    {
     "name": "stdout",
     "output_type": "stream",
     "text": [
      "+--------------------+\n",
      "|                page|\n",
      "+--------------------+\n",
      "|              Cancel|\n",
      "|    Submit Downgrade|\n",
      "|         Thumbs Down|\n",
      "|                Home|\n",
      "|           Downgrade|\n",
      "|         Roll Advert|\n",
      "|              Logout|\n",
      "|       Save Settings|\n",
      "|Cancellation Conf...|\n",
      "|               About|\n",
      "| Submit Registration|\n",
      "|            Settings|\n",
      "|               Login|\n",
      "|            Register|\n",
      "|     Add to Playlist|\n",
      "|          Add Friend|\n",
      "|            NextSong|\n",
      "|           Thumbs Up|\n",
      "|                Help|\n",
      "|             Upgrade|\n",
      "+--------------------+\n",
      "only showing top 20 rows\n",
      "\n"
     ]
    }
   ],
   "source": [
    "# display unique values of column page\n",
    "spark_df.select('page').dropDuplicates().show()"
   ]
  },
  {
   "cell_type": "markdown",
   "metadata": {},
   "source": [
    "## Data Preprocessing\n",
    "This includes:\n",
    "+ Data Cleaning: rename columns, convert data types, remove null values, drop duplicates\n",
    "+ Data Transformation: derive new columns"
   ]
  },
  {
   "cell_type": "code",
   "execution_count": 12,
   "metadata": {},
   "outputs": [],
   "source": [
    "# data cleaning\n",
    "clean_df = spark_df"
   ]
  },
  {
   "cell_type": "code",
   "execution_count": 13,
   "metadata": {},
   "outputs": [],
   "source": [
    "# convert columns ts & registration to timestamp\n",
    "ms_to_timestamp = udf(lambda x: datetime.datetime.fromtimestamp(x / 1000.0).strftime(\"%m-%d-%Y %H:%M:%S\"))\n",
    "\n",
    "clean_df = clean_df.withColumn(\"datetime_ts\", ms_to_timestamp('ts'))\n",
    "clean_df = clean_df.withColumn(\"datetime_ts_registration\", ms_to_timestamp('registration'))"
   ]
  },
  {
   "cell_type": "code",
   "execution_count": 14,
   "metadata": {},
   "outputs": [],
   "source": [
    "# spark_df.describe().show()"
   ]
  },
  {
   "cell_type": "code",
   "execution_count": 15,
   "metadata": {},
   "outputs": [
    {
     "name": "stdout",
     "output_type": "stream",
     "text": [
      "root\n",
      " |-- artist: string (nullable = true)\n",
      " |-- auth: string (nullable = true)\n",
      " |-- firstName: string (nullable = true)\n",
      " |-- gender: string (nullable = true)\n",
      " |-- itemInSession: long (nullable = true)\n",
      " |-- lastName: string (nullable = true)\n",
      " |-- length: double (nullable = true)\n",
      " |-- level: string (nullable = true)\n",
      " |-- location: string (nullable = true)\n",
      " |-- method: string (nullable = true)\n",
      " |-- page: string (nullable = true)\n",
      " |-- registration: long (nullable = true)\n",
      " |-- sessionId: long (nullable = true)\n",
      " |-- song: string (nullable = true)\n",
      " |-- status: long (nullable = true)\n",
      " |-- ts: long (nullable = true)\n",
      " |-- userAgent: string (nullable = true)\n",
      " |-- userId: string (nullable = true)\n",
      " |-- datetime_ts: string (nullable = true)\n",
      " |-- datetime_ts_registration: string (nullable = true)\n",
      "\n"
     ]
    }
   ],
   "source": [
    "clean_df.printSchema()"
   ]
  },
  {
   "cell_type": "code",
   "execution_count": 16,
   "metadata": {},
   "outputs": [],
   "source": [
    "df = clean_df"
   ]
  },
  {
   "cell_type": "code",
   "execution_count": 17,
   "metadata": {},
   "outputs": [
    {
     "name": "stdout",
     "output_type": "stream",
     "text": [
      "+------+---------+-----+-------------------+--------+------------+\n",
      "|userId|firstName|level|        datetime_ts|is_churn|is_downgrade|\n",
      "+------+---------+-----+-------------------+--------+------------+\n",
      "|100010| Darianna| free|10-08-2018 12:58:54|       0|           0|\n",
      "|200002|  Dominic| free|10-01-2018 11:30:30|       0|           0|\n",
      "|   125|    Mason| free|10-12-2018 04:05:44|       1|           0|\n",
      "|   124|   Nicole| paid|10-01-2018 15:17:10|       0|           0|\n",
      "|    51|    Ethan| paid|10-01-2018 12:57:12|       1|           0|\n",
      "|     7|   Maddox| free|10-03-2018 11:57:49|       0|           0|\n",
      "|    15|    Panav| paid|10-01-2018 10:23:35|       0|           0|\n",
      "|    54|    Alexi| paid|10-01-2018 00:32:10|       1|           1|\n",
      "|   155|   Camila| free|11-02-2018 15:56:25|       0|           0|\n",
      "|100014|  Rodrigo| paid|10-10-2018 13:12:16|       1|           0|\n",
      "+------+---------+-----+-------------------+--------+------------+\n",
      "only showing top 10 rows\n",
      "\n"
     ]
    }
   ],
   "source": [
    "# derive new columns: is_downgrade, is_churn\n",
    "# derive a downgrade label\n",
    "udf_downgrade_value = udf(lambda x: 1 if x == \"Submit Downgrade\" else 0, IntegerType())\n",
    "df = df.withColumn(\"downgrade_value\", udf_downgrade_value(\"page\"))\n",
    "\n",
    "# find all users who downgraded\n",
    "dg_window = Window.partitionBy('userId')\n",
    "df = df.withColumn(\"is_downgrade\", max('downgrade_value').over(dg_window))\n",
    "\n",
    "# derive a churn label\n",
    "udf_churn_value = udf(lambda x: 1 if x == 'Cancellation Confirmation' else 0, IntegerType())\n",
    "df = df.withColumn(\"churn_value\", udf_churn_value(\"page\"))\n",
    "\n",
    "# find all users who churned\n",
    "churn_window = Window.partitionBy('userId')\n",
    "df = df.withColumn(\"is_churn\", max('churn_value').over(churn_window))\n",
    "\n",
    "# # selecting few users to see\n",
    "df.select(['userId', 'firstName', 'level','datetime_ts','is_churn', 'is_downgrade']).dropDuplicates(subset = ['userId']).show(10)"
   ]
  },
  {
   "cell_type": "code",
   "execution_count": 18,
   "metadata": {},
   "outputs": [
    {
     "name": "stdout",
     "output_type": "stream",
     "text": [
      "+--------+------+-----+\n",
      "|is_churn|gender|count|\n",
      "+--------+------+-----+\n",
      "|       0|     M|   89|\n",
      "|       0|     F|   84|\n",
      "|       0|  null|    1|\n",
      "|       1|     F|   20|\n",
      "|       1|     M|   32|\n",
      "+--------+------+-----+\n",
      "\n"
     ]
    }
   ],
   "source": [
    "# gender distribution between churn users and regular users\n",
    "df.drop_duplicates(['userId', 'gender']).groupby(['is_churn', 'gender']).count().sort(\"is_churn\").show()"
   ]
  },
  {
   "cell_type": "code",
   "execution_count": 19,
   "metadata": {},
   "outputs": [
    {
     "data": {
      "text/plain": [
       "<matplotlib.axes._subplots.AxesSubplot at 0x7f6ddd2a0a20>"
      ]
     },
     "execution_count": 19,
     "metadata": {},
     "output_type": "execute_result"
    },
    {
     "data": {
      "image/png": "[encoded data removed]",
      "text/plain": [
       "<matplotlib.figure.Figure at 0x7f6e12923be0>"
      ]
     },
     "metadata": {
      "needs_background": "light"
     },
     "output_type": "display_data"
    }
   ],
   "source": [
    "# plotting a bar plot to show gender distribution between regular and churn users\n",
    "df_ch_pd = df.drop_duplicates(['userId', 'gender']).groupby(['is_churn', 'gender']).count().sort(\"is_churn\").toPandas()\n",
    "sns.barplot(x = 'is_churn', y = 'count', data = df_ch_pd, hue = 'gender')"
   ]
  },
  {
   "cell_type": "code",
   "execution_count": 20,
   "metadata": {},
   "outputs": [
    {
     "data": {
      "text/plain": [
       "<matplotlib.axes._subplots.AxesSubplot at 0x7f6ddd1c1278>"
      ]
     },
     "execution_count": 20,
     "metadata": {},
     "output_type": "execute_result"
    },
    {
     "data": {
      "image/png": "[encoded data removed]",
      "text/plain": [
       "<matplotlib.figure.Figure at 0x7f6ddd1a7860>"
      ]
     },
     "metadata": {
      "needs_background": "light"
     },
     "output_type": "display_data"
    }
   ],
   "source": [
    "# finding out which level customers churn more\n",
    "level_df = df.filter('page == \"Cancellation Confirmation\"').groupby('level').count().toPandas()\n",
    "sns.barplot(data = level_df, x = 'level', y = 'count', color = sns.color_palette()[0])"
   ]
  },
  {
   "cell_type": "code",
   "execution_count": 21,
   "metadata": {},
   "outputs": [
    {
     "data": {
      "image/png": "[encoded data removed]",
      "text/plain": [
       "<matplotlib.figure.Figure at 0x7f6ddd134390>"
      ]
     },
     "metadata": {
      "needs_background": "light"
     },
     "output_type": "display_data"
    }
   ],
   "source": [
    "# gender distribution for number of songs played per session for churned and regular users\n",
    "df_total_songs = df.where('page == \"NextSong\"').groupby(['is_churn', 'userId', 'sessionId', 'gender']).count()\\\n",
    "    .groupby(['is_churn', 'userId', 'gender']).agg({'count': 'avg'})\\\n",
    "    .withColumnRenamed('avg(count)', 'avg_played_songs').toPandas()\n",
    "\n",
    "ax = sns.violinplot('is_churn', y = 'avg_played_songs', hue = 'gender', data = df_total_songs)"
   ]
  },
  {
   "cell_type": "markdown",
   "metadata": {},
   "source": [
    "From the chart, we can see that churned users played less number of songs per sessions compared to normal users."
   ]
  },
  {
   "cell_type": "code",
   "execution_count": 22,
   "metadata": {},
   "outputs": [
    {
     "data": {
      "text/plain": [
       "<matplotlib.axes._subplots.AxesSubplot at 0x7f6ddd05a278>"
      ]
     },
     "execution_count": 22,
     "metadata": {},
     "output_type": "execute_result"
    },
    {
     "data": {
      "image/png": "[encoded data removed]",
      "text/plain": [
       "<matplotlib.figure.Figure at 0x7f6ddd229240>"
      ]
     },
     "metadata": {
      "needs_background": "light"
     },
     "output_type": "display_data"
    }
   ],
   "source": [
    "# graph distribution of users churned by gender\n",
    "df_ops = df.groupby(\"is_churn\", \"userId\", \"sessionId\", 'gender').count().toPandas()\n",
    "sns.boxplot(x = 'count', y = 'is_churn', orient = 'horizontal', data = df_ops, hue = 'gender')"
   ]
  },
  {
   "cell_type": "markdown",
   "metadata": {},
   "source": [
    "From the chart, we can see that churn users performed less compared to normal users. And, female users are more likely to churn."
   ]
  },
  {
   "cell_type": "markdown",
   "metadata": {},
   "source": [
    "# Feature Engineering\n",
    "Once you've familiarized yourself with the data, build out the features you find promising to train your model on. To work with the full dataset, you can follow the following steps.\n",
    "- Write a script to extract the necessary features from the smaller subset of data\n",
    "- Ensure that your script is scalable, using the best practices discussed in Lesson 3\n",
    "- Try your script on the full data set, debugging your script if necessary\n",
    "\n",
    "If you are working in the classroom workspace, you can just extract features based on the small subset of data contained here. Be sure to transfer over this work to the larger dataset when you work on your Spark cluster."
   ]
  },
  {
   "cell_type": "code",
   "execution_count": 23,
   "metadata": {
    "scrolled": true
   },
   "outputs": [
    {
     "name": "stdout",
     "output_type": "stream",
     "text": [
      "+------+-----------+\n",
      "|userId|total_songs|\n",
      "+------+-----------+\n",
      "|100010|        381|\n",
      "|200002|        474|\n",
      "|   125|         11|\n",
      "|    51|       2464|\n",
      "|   124|       4825|\n",
      "|     7|        201|\n",
      "|    54|       3437|\n",
      "|    15|       2278|\n",
      "|   155|       1002|\n",
      "|   132|       2304|\n",
      "|   154|        118|\n",
      "|100014|        310|\n",
      "|   101|       2149|\n",
      "|    11|        848|\n",
      "|   138|       2469|\n",
      "|300017|       4428|\n",
      "|    29|       3603|\n",
      "|    69|       1342|\n",
      "|100021|        319|\n",
      "|    42|       4257|\n",
      "+------+-----------+\n",
      "only showing top 20 rows\n",
      "\n"
     ]
    }
   ],
   "source": [
    "# feature 1: calculate the total number of songs played\n",
    "feature_1 = df.select('userId', 'song').groupBy('userId').count().withColumnRenamed('count', 'total_songs')\n",
    "feature_1.show()"
   ]
  },
  {
   "cell_type": "code",
   "execution_count": 24,
   "metadata": {},
   "outputs": [
    {
     "name": "stdout",
     "output_type": "stream",
     "text": [
      "+------+---------------+\n",
      "|userId|total_thumbs_up|\n",
      "+------+---------------+\n",
      "|100010|             17|\n",
      "|200002|             21|\n",
      "|    51|            100|\n",
      "|   124|            171|\n",
      "|     7|              7|\n",
      "|    54|            163|\n",
      "|    15|             81|\n",
      "|   155|             58|\n",
      "|   132|             96|\n",
      "|   154|             11|\n",
      "|100014|             17|\n",
      "|   101|             86|\n",
      "|    11|             40|\n",
      "|   138|             95|\n",
      "|300017|            303|\n",
      "|    29|            154|\n",
      "|    69|             72|\n",
      "|100021|             11|\n",
      "|    42|            166|\n",
      "|   112|              9|\n",
      "+------+---------------+\n",
      "only showing top 20 rows\n",
      "\n"
     ]
    }
   ],
   "source": [
    "# feature 2: calculate the number of thumbs up\n",
    "feature_2 = df.select('userId', 'page').where(df.page == 'Thumbs Up').groupBy('userId').count().withColumnRenamed('count', 'total_thumbs_up')\n",
    "feature_2.show()"
   ]
  },
  {
   "cell_type": "code",
   "execution_count": 25,
   "metadata": {},
   "outputs": [
    {
     "name": "stdout",
     "output_type": "stream",
     "text": [
      "+------+-----------------+\n",
      "|userId|total_thumbs_down|\n",
      "+------+-----------------+\n",
      "|100010|                5|\n",
      "|200002|                6|\n",
      "|    51|               21|\n",
      "|   124|               41|\n",
      "|     7|                1|\n",
      "|    15|               14|\n",
      "|    54|               29|\n",
      "|   155|                3|\n",
      "|   132|               17|\n",
      "|100014|                3|\n",
      "|   101|               16|\n",
      "|    11|                9|\n",
      "|   138|               24|\n",
      "|300017|               28|\n",
      "|    29|               22|\n",
      "|    69|                9|\n",
      "|100021|                5|\n",
      "|    42|               25|\n",
      "|   112|                3|\n",
      "|    73|                7|\n",
      "+------+-----------------+\n",
      "only showing top 20 rows\n",
      "\n"
     ]
    }
   ],
   "source": [
    "# feature 3: calculate the number of thumbs down\n",
    "feature_3 = df.select('userId', 'page').where(df.page == 'Thumbs Down').groupBy('userId').count().withColumnRenamed('count', 'total_thumbs_down')\n",
    "feature_3.show()"
   ]
  },
  {
   "cell_type": "code",
   "execution_count": 26,
   "metadata": {},
   "outputs": [
    {
     "name": "stdout",
     "output_type": "stream",
     "text": [
      "+------+------------------+\n",
      "|userId|    total_lifetime|\n",
      "+------+------------------+\n",
      "|100010|  55.6436574074074|\n",
      "|200002| 70.07462962962963|\n",
      "|   125| 71.31688657407408|\n",
      "|    51|19.455844907407407|\n",
      "|   124|131.55591435185184|\n",
      "|     7| 72.77818287037037|\n",
      "|    54|110.75168981481481|\n",
      "|    15|56.513576388888886|\n",
      "|   155|23.556018518518517|\n",
      "|   132|  66.8891087962963|\n",
      "|   154|23.872037037037035|\n",
      "|100014| 85.08340277777778|\n",
      "|   101|53.965937499999995|\n",
      "|    11|124.47825231481481|\n",
      "|   138| 66.62668981481481|\n",
      "|300017| 74.35851851851852|\n",
      "|    29|60.104050925925925|\n",
      "|    69| 71.42444444444445|\n",
      "|100021| 64.73886574074074|\n",
      "|    42| 67.11364583333334|\n",
      "+------+------------------+\n",
      "only showing top 20 rows\n",
      "\n"
     ]
    }
   ],
   "source": [
    "# feature 4: calculate the life time since registration\n",
    "feature_4 = df.select('userId', 'registration', 'ts').withColumn('total_lifetime', (df.ts - df.registration))\\\n",
    "    .groupBy('userId').agg({'total_lifetime' : 'max'})\\\n",
    "    .withColumnRenamed('max(total_lifetime)', 'total_lifetime')\\\n",
    "    .select('userId', (col('total_lifetime')/1000/3600/24).alias('total_lifetime'))\n",
    "feature_4.show()"
   ]
  },
  {
   "cell_type": "code",
   "execution_count": 27,
   "metadata": {},
   "outputs": [
    {
     "name": "stdout",
     "output_type": "stream",
     "text": [
      "+------+------------------+\n",
      "|userId| total_listen_time|\n",
      "+------+------------------+\n",
      "|100010| 66940.89735000003|\n",
      "|200002| 94008.87593999993|\n",
      "|   125|2089.1131000000005|\n",
      "|    51| 523275.8428000004|\n",
      "|   124|1012312.0927899999|\n",
      "|     7| 38034.08710000002|\n",
      "|    54| 711344.9195400011|\n",
      "|    15|477307.60581000015|\n",
      "|   155|       198779.2919|\n",
      "|   132| 483118.9038399997|\n",
      "|   154|20660.023910000007|\n",
      "|100014| 67703.47208000004|\n",
      "|   101| 447464.0146699989|\n",
      "|    11|159669.96303999983|\n",
      "|   138| 512449.8827599989|\n",
      "|300017| 897406.9802100015|\n",
      "|    29| 754517.5625700009|\n",
      "|    69| 286064.0256399999|\n",
      "|100021| 57633.17563999999|\n",
      "|    42| 881792.9661300007|\n",
      "+------+------------------+\n",
      "only showing top 20 rows\n",
      "\n"
     ]
    }
   ],
   "source": [
    "# feature 5: calcukate the total length of listening utilizing all services\n",
    "feature_5 = df.select(\"userId\", 'length').groupBy('userId').sum().withColumnRenamed('sum(length)', 'total_listen_time')\n",
    "feature_5.show()"
   ]
  },
  {
   "cell_type": "code",
   "execution_count": 28,
   "metadata": {},
   "outputs": [
    {
     "name": "stdout",
     "output_type": "stream",
     "text": [
      "+------+-------------+\n",
      "|userId|total_friends|\n",
      "+------+-------------+\n",
      "|100010|            4|\n",
      "|200002|            4|\n",
      "|    51|           28|\n",
      "|   124|           74|\n",
      "|     7|            1|\n",
      "|    54|           33|\n",
      "|    15|           31|\n",
      "|   155|           11|\n",
      "|   132|           41|\n",
      "|   154|            3|\n",
      "|100014|            6|\n",
      "|   101|           29|\n",
      "|    11|            6|\n",
      "|   138|           41|\n",
      "|300017|           63|\n",
      "|    29|           47|\n",
      "|    69|           12|\n",
      "|100021|            7|\n",
      "|    42|           52|\n",
      "|   112|            7|\n",
      "+------+-------------+\n",
      "only showing top 20 rows\n",
      "\n"
     ]
    }
   ],
   "source": [
    "# feature 6: calcualte the total number of friends\n",
    "feature_6 = df.select('userId', 'page').where(df.page == 'Add Friend').groupBy('userId').count().withColumnRenamed('count', 'total_friends')\n",
    "feature_6.show()"
   ]
  },
  {
   "cell_type": "code",
   "execution_count": 29,
   "metadata": {},
   "outputs": [
    {
     "name": "stdout",
     "output_type": "stream",
     "text": [
      "+------+------+\n",
      "|userId|gender|\n",
      "+------+------+\n",
      "|    44|     0|\n",
      "|    46|     0|\n",
      "|    41|     0|\n",
      "|    72|     0|\n",
      "|300023|     0|\n",
      "|    39|     0|\n",
      "|100010|     0|\n",
      "|    40|     0|\n",
      "|    94|     0|\n",
      "|    35|     0|\n",
      "|    75|     0|\n",
      "|   116|     0|\n",
      "|200001|     1|\n",
      "|200020|     1|\n",
      "|100008|     0|\n",
      "|200015|     1|\n",
      "|   100|     1|\n",
      "|100006|     0|\n",
      "|300005|     0|\n",
      "|    25|     0|\n",
      "+------+------+\n",
      "only showing top 20 rows\n",
      "\n"
     ]
    }
   ],
   "source": [
    "# feature 7: gender of the user\n",
    "# female: 0, male: 1\n",
    "feature_7 = df.select('userId', 'gender').dropDuplicates().replace(['F', 'M'], ['0', '1'], 'gender').select('userId', col('gender').cast('int'))\n",
    "\n",
    "feature_7.show()"
   ]
  },
  {
   "cell_type": "code",
   "execution_count": 30,
   "metadata": {},
   "outputs": [
    {
     "name": "stdout",
     "output_type": "stream",
     "text": [
      "+------+------------------+\n",
      "|userId|  avg_played_songs|\n",
      "+------+------------------+\n",
      "|100010|39.285714285714285|\n",
      "|200002|              64.5|\n",
      "|   125|               8.0|\n",
      "|    51|             211.1|\n",
      "|   124|145.67857142857142|\n",
      "|     7|21.428571428571427|\n",
      "|    54| 81.17142857142858|\n",
      "|    15|136.71428571428572|\n",
      "|   155|136.66666666666666|\n",
      "|100014|42.833333333333336|\n",
      "|   132|             120.5|\n",
      "|   154|              28.0|\n",
      "|   101|             179.7|\n",
      "|    11|           40.4375|\n",
      "|300017|59.540983606557376|\n",
      "|   138|             138.0|\n",
      "|    29| 89.05882352941177|\n",
      "|    69|             125.0|\n",
      "|100021|              46.0|\n",
      "|    42| 87.14634146341463|\n",
      "+------+------------------+\n",
      "only showing top 20 rows\n",
      "\n"
     ]
    }
   ],
   "source": [
    "# feature 8: calculate the total number of songs listened per session\n",
    "feature_8 = df.where('page == \"NextSong\"').groupby(['userId', 'sessionId']).count().groupby('userId')\\\n",
    "          .agg({'count' : 'avg'}).withColumnRenamed('avg(count)', 'avg_played_songs')\n",
    "\n",
    "feature_8.show()"
   ]
  },
  {
   "cell_type": "code",
   "execution_count": 31,
   "metadata": {},
   "outputs": [
    {
     "name": "stdout",
     "output_type": "stream",
     "text": [
      "+------+---------------------+\n",
      "|userId|total_artist_listened|\n",
      "+------+---------------------+\n",
      "|100010|                  252|\n",
      "|200002|                  339|\n",
      "|   125|                    8|\n",
      "|    51|                 1385|\n",
      "|   124|                 2232|\n",
      "|     7|                  142|\n",
      "|    15|                 1302|\n",
      "|    54|                 1744|\n",
      "|   155|                  643|\n",
      "|   132|                 1299|\n",
      "|   154|                   78|\n",
      "|100014|                  233|\n",
      "|   101|                 1241|\n",
      "|    11|                  534|\n",
      "|   138|                 1332|\n",
      "|300017|                 2070|\n",
      "|    29|                 1804|\n",
      "|    69|                  865|\n",
      "|100021|                  207|\n",
      "|    42|                 2073|\n",
      "+------+---------------------+\n",
      "only showing top 20 rows\n",
      "\n"
     ]
    }
   ],
   "source": [
    "# feature 9: calculate the total number of artists the user has listened to\n",
    "feature_9 = df.filter(df.page == \"NextSong\").select(\"userId\", \"artist\").dropDuplicates().groupby(\"userId\").count()\\\n",
    "         .withColumnRenamed(\"count\", \"total_artist_listened\")\n",
    "feature_9.show()"
   ]
  },
  {
   "cell_type": "code",
   "execution_count": 32,
   "metadata": {},
   "outputs": [
    {
     "name": "stdout",
     "output_type": "stream",
     "text": [
      "+------+--------+\n",
      "|userId|is_churn|\n",
      "+------+--------+\n",
      "|100010|       0|\n",
      "|200002|       0|\n",
      "|   125|       1|\n",
      "|   124|       0|\n",
      "|    51|       1|\n",
      "|     7|       0|\n",
      "|    15|       0|\n",
      "|    54|       1|\n",
      "|   155|       0|\n",
      "|100014|       1|\n",
      "|   132|       0|\n",
      "|   154|       0|\n",
      "|   101|       1|\n",
      "|    11|       0|\n",
      "|   138|       0|\n",
      "|300017|       0|\n",
      "|100021|       1|\n",
      "|    29|       1|\n",
      "|    69|       0|\n",
      "|   112|       0|\n",
      "+------+--------+\n",
      "only showing top 20 rows\n",
      "\n"
     ]
    }
   ],
   "source": [
    "# setting the churn label for our model\n",
    "df_label = df.select('userId', 'is_churn').dropDuplicates()\n",
    "df_label.show()"
   ]
  },
  {
   "cell_type": "code",
   "execution_count": 33,
   "metadata": {
    "scrolled": true
   },
   "outputs": [
    {
     "name": "stdout",
     "output_type": "stream",
     "text": [
      "+-----------+---------------+-----------------+------------------+------------------+-------------+------+------------------+---------------------+--------+\n",
      "|total_songs|total_thumbs_up|total_thumbs_down|    total_lifetime| total_listen_time|total_friends|gender|  avg_played_songs|total_artist_listened|is_churn|\n",
      "+-----------+---------------+-----------------+------------------+------------------+-------------+------+------------------+---------------------+--------+\n",
      "|        381|             17|                5|  55.6436574074074| 66940.89735000003|            4|     0|39.285714285714285|                  252|       0|\n",
      "|        474|             21|                6| 70.07462962962963| 94008.87593999993|            4|     1|              64.5|                  339|       0|\n",
      "|       2464|            100|               21|19.455844907407407| 523275.8428000004|           28|     1|             211.1|                 1385|       1|\n",
      "|       4825|            171|               41|131.55591435185184|1012312.0927899999|           74|     0|145.67857142857142|                 2232|       0|\n",
      "|        201|              7|                1| 72.77818287037037| 38034.08710000002|            1|     1|21.428571428571427|                  142|       0|\n",
      "|       3437|            163|               29|110.75168981481481| 711344.9195400011|           33|     0| 81.17142857142858|                 1744|       1|\n",
      "|       2278|             81|               14|56.513576388888886|477307.60581000015|           31|     1|136.71428571428572|                 1302|       0|\n",
      "|       1002|             58|                3|23.556018518518517|       198779.2919|           11|     0|136.66666666666666|                  643|       0|\n",
      "|       2304|             96|               17|  66.8891087962963| 483118.9038399997|           41|     0|             120.5|                 1299|       0|\n",
      "|        310|             17|                3| 85.08340277777778| 67703.47208000004|            6|     1|42.833333333333336|                  233|       1|\n",
      "|       2149|             86|               16|53.965937499999995| 447464.0146699989|           29|     1|             179.7|                 1241|       1|\n",
      "|        848|             40|                9|124.47825231481481|159669.96303999983|            6|     0|           40.4375|                  534|       0|\n",
      "|       2469|             95|               24| 66.62668981481481| 512449.8827599989|           41|     1|             138.0|                 1332|       0|\n",
      "|       4428|            303|               28| 74.35851851851852| 897406.9802100015|           63|     0|59.540983606557376|                 2070|       0|\n",
      "|       3603|            154|               22|60.104050925925925| 754517.5625700009|           47|     1| 89.05882352941177|                 1804|       1|\n",
      "|       1342|             72|                9| 71.42444444444445| 286064.0256399999|           12|     0|             125.0|                  865|       0|\n",
      "|        319|             11|                5| 64.73886574074074| 57633.17563999999|            7|     1|              46.0|                  207|       1|\n",
      "|       4257|            166|               25| 67.11364583333334| 881792.9661300007|           52|     0| 87.14634146341463|                 2073|       0|\n",
      "|        292|              9|                3| 87.46262731481481| 53062.74659000002|            7|     1| 23.88888888888889|                  195|       0|\n",
      "|       1003|             32|                5|59.125856481481485|193639.95913000012|           27|     1|             30.68|                  622|       1|\n",
      "+-----------+---------------+-----------------+------------------+------------------+-------------+------+------------------+---------------------+--------+\n",
      "only showing top 20 rows\n",
      "\n"
     ]
    }
   ],
   "source": [
    "# combine all features with the churn label\n",
    "df_features = feature_1.join(feature_2, 'userId', 'inner').join(feature_3, 'userId', 'inner').join(feature_4, 'userId', 'inner')\\\n",
    "             .join(feature_5, 'userId', 'inner').join(feature_6, 'userId', 'inner').join(feature_7, 'userId', 'inner')\\\n",
    "             .join(feature_8, 'userId', 'inner').join(feature_9, 'userId', 'inner').join(df_label, 'userId', 'inner').drop('userId')\n",
    "\n",
    "df_features.show()"
   ]
  },
  {
   "cell_type": "code",
   "execution_count": 34,
   "metadata": {},
   "outputs": [
    {
     "name": "stdout",
     "output_type": "stream",
     "text": [
      "root\n",
      " |-- total_songs: long (nullable = false)\n",
      " |-- total_thumbs_up: long (nullable = false)\n",
      " |-- total_thumbs_down: long (nullable = false)\n",
      " |-- total_lifetime: double (nullable = true)\n",
      " |-- total_listen_time: double (nullable = true)\n",
      " |-- total_friends: long (nullable = false)\n",
      " |-- gender: integer (nullable = true)\n",
      " |-- avg_played_songs: double (nullable = true)\n",
      " |-- total_artist_listened: long (nullable = false)\n",
      " |-- is_churn: integer (nullable = true)\n",
      "\n"
     ]
    }
   ],
   "source": [
    "df_features.printSchema()"
   ]
  },
  {
   "cell_type": "markdown",
   "metadata": {},
   "source": [
    "# Modeling\n",
    "Split the full dataset into train, test, and validation sets. Test out several of the machine learning methods you learned. Evaluate the accuracy of the various models, tuning parameters as necessary. Determine your winning model based on test accuracy and report results on the validation set. Since the churned users are a fairly small subset, I suggest using F1 score as the metric to optimize."
   ]
  },
  {
   "cell_type": "code",
   "execution_count": 35,
   "metadata": {
    "scrolled": true
   },
   "outputs": [
    {
     "name": "stdout",
     "output_type": "stream",
     "text": [
      "+-----------+---------------+-----------------+------------------+------------------+-------------+------+------------------+---------------------+--------+--------------------+\n",
      "|total_songs|total_thumbs_up|total_thumbs_down|    total_lifetime| total_listen_time|total_friends|gender|  avg_played_songs|total_artist_listened|is_churn|        VectFeatures|\n",
      "+-----------+---------------+-----------------+------------------+------------------+-------------+------+------------------+---------------------+--------+--------------------+\n",
      "|        381|             17|                5|  55.6436574074074| 66940.89735000003|            4|     0|39.285714285714285|                  252|       0|[381.0,17.0,5.0,5...|\n",
      "|        474|             21|                6| 70.07462962962963| 94008.87593999993|            4|     1|              64.5|                  339|       0|[474.0,21.0,6.0,7...|\n",
      "|       2464|            100|               21|19.455844907407407| 523275.8428000004|           28|     1|             211.1|                 1385|       1|[2464.0,100.0,21....|\n",
      "|       4825|            171|               41|131.55591435185184|1012312.0927899999|           74|     0|145.67857142857142|                 2232|       0|[4825.0,171.0,41....|\n",
      "|        201|              7|                1| 72.77818287037037| 38034.08710000002|            1|     1|21.428571428571427|                  142|       0|[201.0,7.0,1.0,72...|\n",
      "|       3437|            163|               29|110.75168981481481| 711344.9195400011|           33|     0| 81.17142857142858|                 1744|       1|[3437.0,163.0,29....|\n",
      "|       2278|             81|               14|56.513576388888886|477307.60581000015|           31|     1|136.71428571428572|                 1302|       0|[2278.0,81.0,14.0...|\n",
      "|       1002|             58|                3|23.556018518518517|       198779.2919|           11|     0|136.66666666666666|                  643|       0|[1002.0,58.0,3.0,...|\n",
      "|       2304|             96|               17|  66.8891087962963| 483118.9038399997|           41|     0|             120.5|                 1299|       0|[2304.0,96.0,17.0...|\n",
      "|        310|             17|                3| 85.08340277777778| 67703.47208000004|            6|     1|42.833333333333336|                  233|       1|[310.0,17.0,3.0,8...|\n",
      "|       2149|             86|               16|53.965937499999995| 447464.0146699989|           29|     1|             179.7|                 1241|       1|[2149.0,86.0,16.0...|\n",
      "|        848|             40|                9|124.47825231481481|159669.96303999983|            6|     0|           40.4375|                  534|       0|[848.0,40.0,9.0,1...|\n",
      "|       2469|             95|               24| 66.62668981481481| 512449.8827599989|           41|     1|             138.0|                 1332|       0|[2469.0,95.0,24.0...|\n",
      "|       4428|            303|               28| 74.35851851851852| 897406.9802100015|           63|     0|59.540983606557376|                 2070|       0|[4428.0,303.0,28....|\n",
      "|       3603|            154|               22|60.104050925925925| 754517.5625700009|           47|     1| 89.05882352941177|                 1804|       1|[3603.0,154.0,22....|\n",
      "|       1342|             72|                9| 71.42444444444445| 286064.0256399999|           12|     0|             125.0|                  865|       0|[1342.0,72.0,9.0,...|\n",
      "|        319|             11|                5| 64.73886574074074| 57633.17563999999|            7|     1|              46.0|                  207|       1|[319.0,11.0,5.0,6...|\n",
      "|       4257|            166|               25| 67.11364583333334| 881792.9661300007|           52|     0| 87.14634146341463|                 2073|       0|[4257.0,166.0,25....|\n",
      "|        292|              9|                3| 87.46262731481481| 53062.74659000002|            7|     1| 23.88888888888889|                  195|       0|[292.0,9.0,3.0,87...|\n",
      "|       1003|             32|                5|59.125856481481485|193639.95913000012|           27|     1|             30.68|                  622|       1|[1003.0,32.0,5.0,...|\n",
      "+-----------+---------------+-----------------+------------------+------------------+-------------+------+------------------+---------------------+--------+--------------------+\n",
      "only showing top 20 rows\n",
      "\n"
     ]
    }
   ],
   "source": [
    "# step 1: vectorize all the features\n",
    "\n",
    "input_cols = ['total_songs', 'total_thumbs_up', 'total_thumbs_down', 'total_lifetime', 'total_listen_time', 'total_friends', 'gender', 'avg_played_songs', 'total_artist_listened']\n",
    "assmblr = VectorAssembler(inputCols = input_cols, outputCol = \"VectFeatures\")\n",
    "final_df = assmblr.transform(df_features)\n",
    "final_df.show()"
   ]
  },
  {
   "cell_type": "code",
   "execution_count": 36,
   "metadata": {},
   "outputs": [
    {
     "name": "stdout",
     "output_type": "stream",
     "text": [
      "root\n",
      " |-- total_songs: long (nullable = false)\n",
      " |-- total_thumbs_up: long (nullable = false)\n",
      " |-- total_thumbs_down: long (nullable = false)\n",
      " |-- total_lifetime: double (nullable = true)\n",
      " |-- total_listen_time: double (nullable = true)\n",
      " |-- total_friends: long (nullable = false)\n",
      " |-- gender: integer (nullable = true)\n",
      " |-- avg_played_songs: double (nullable = true)\n",
      " |-- total_artist_listened: long (nullable = false)\n",
      " |-- is_churn: integer (nullable = true)\n",
      " |-- VectFeatures: vector (nullable = true)\n",
      "\n"
     ]
    }
   ],
   "source": [
    "final_df.printSchema()"
   ]
  },
  {
   "cell_type": "code",
   "execution_count": 37,
   "metadata": {},
   "outputs": [],
   "source": [
    "# step 2: standardize all input features\n",
    "scaler = StandardScaler(inputCol = 'VectFeatures', outputCol = \"newFeatures\", withStd = True)\n",
    "scaler_model = scaler.fit(final_df)\n",
    "final_df = scaler_model.transform(final_df)"
   ]
  },
  {
   "cell_type": "code",
   "execution_count": 38,
   "metadata": {},
   "outputs": [
    {
     "name": "stdout",
     "output_type": "stream",
     "text": [
      "root\n",
      " |-- total_songs: long (nullable = false)\n",
      " |-- total_thumbs_up: long (nullable = false)\n",
      " |-- total_thumbs_down: long (nullable = false)\n",
      " |-- total_lifetime: double (nullable = true)\n",
      " |-- total_listen_time: double (nullable = true)\n",
      " |-- total_friends: long (nullable = false)\n",
      " |-- gender: integer (nullable = true)\n",
      " |-- avg_played_songs: double (nullable = true)\n",
      " |-- total_artist_listened: long (nullable = false)\n",
      " |-- is_churn: integer (nullable = true)\n",
      " |-- VectFeatures: vector (nullable = true)\n",
      " |-- newFeatures: vector (nullable = true)\n",
      "\n"
     ]
    }
   ],
   "source": [
    "final_df.printSchema()"
   ]
  },
  {
   "cell_type": "code",
   "execution_count": 39,
   "metadata": {},
   "outputs": [],
   "source": [
    "data = final_df.select(final_df.is_churn.alias(\"label\"), final_df.newFeatures.alias(\"features\"))"
   ]
  },
  {
   "cell_type": "code",
   "execution_count": 40,
   "metadata": {},
   "outputs": [
    {
     "name": "stdout",
     "output_type": "stream",
     "text": [
      "+-----+--------------------+\n",
      "|label|            features|\n",
      "+-----+--------------------+\n",
      "|    0|[0.28303716272111...|\n",
      "|    0|[0.35212497409397...|\n",
      "|    1|[1.83045556153494...|\n",
      "|    0|[3.58439451477521...|\n",
      "|    0|[0.14931881812845...|\n",
      "|    1|[2.55327750202744...|\n",
      "|    0|[1.69227993878920...|\n",
      "|    0|[0.74436545156575...|\n",
      "|    0|[1.71159481078592...|\n",
      "|    1|[0.23029270457623...|\n",
      "|    1|[1.59644845849780...|\n",
      "|    0|[0.62996197896981...|\n",
      "|    0|[1.83416995999585...|\n",
      "|    0|[3.2894712769792,...|\n",
      "|    1|[2.67659553092955...|\n",
      "|    0|[0.99694454690742...|\n",
      "|    1|[0.23697862180586...|\n",
      "|    0|[3.16243884961618...|\n",
      "|    0|[0.21692087011696...|\n",
      "|    1|[0.74510833125793...|\n",
      "+-----+--------------------+\n",
      "only showing top 20 rows\n",
      "\n"
     ]
    }
   ],
   "source": [
    "data.show()"
   ]
  },
  {
   "cell_type": "code",
   "execution_count": 41,
   "metadata": {},
   "outputs": [],
   "source": [
    "# define training set and valuation set\n",
    "train, val = data.randomSplit([0.90, 0.10], seed = 42)\n",
    "train = train.cache()"
   ]
  },
  {
   "cell_type": "code",
   "execution_count": 42,
   "metadata": {},
   "outputs": [],
   "source": [
    "# try the first classifier: Random Forest \n",
    "rf_clf = RandomForestClassifier()\n",
    "\n",
    "f1_evaluation = MulticlassClassificationEvaluator(metricName = 'f1')\n",
    "param_grid = ParamGridBuilder().build()\n",
    "\n",
    "cross_val_rf = CrossValidator(estimator = rf_clf, estimatorParamMaps = param_grid, evaluator = f1_evaluation, numFolds = 2)"
   ]
  },
  {
   "cell_type": "code",
   "execution_count": 43,
   "metadata": {},
   "outputs": [
    {
     "data": {
      "text/plain": [
       "[0.7508242500405957]"
      ]
     },
     "execution_count": 43,
     "metadata": {},
     "output_type": "execute_result"
    }
   ],
   "source": [
    "# evaluate on training set\n",
    "cv_model_rf = cross_val_rf.fit(train)\n",
    "cv_model_rf.avgMetrics"
   ]
  },
  {
   "cell_type": "code",
   "execution_count": 44,
   "metadata": {},
   "outputs": [],
   "source": [
    "# evaluate on valuation set\n",
    "res_rf = cv_model_rf.transform(val)"
   ]
  },
  {
   "cell_type": "code",
   "execution_count": 62,
   "metadata": {},
   "outputs": [
    {
     "name": "stdout",
     "output_type": "stream",
     "text": [
      "The metrics for Random Forest Classifier are as follows :\n",
      "The F-1 Score is 0.7809523809523808\n",
      "The accuracy is 0.8\n"
     ]
    }
   ],
   "source": [
    "# evaluation metrics for Random Forest\n",
    "evaluator = MulticlassClassificationEvaluator(predictionCol = \"prediction\")\n",
    "print(\"The metrics for Random Forest Classifier are as follows :\")\n",
    "print(\"The F-1 Score is {}\".format(evaluator.evaluate(res_rf, {evaluator.metricName : \"f1\"})))\n",
    "print(\"The accuracy is {}\".format(evaluator.evaluate(res_rf, {evaluator.metricName : \"accuracy\"})))"
   ]
  },
  {
   "cell_type": "code",
   "execution_count": 46,
   "metadata": {},
   "outputs": [],
   "source": [
    "# try the second classifier 2: Support Vector Machine\n",
    "svm_clf = LinearSVC(maxIter = 15)\n",
    "\n",
    "f1_evaluation = MulticlassClassificationEvaluator(metricName = 'f1')\n",
    "param_grid = ParamGridBuilder().build()\n",
    "\n",
    "cross_val_svm = CrossValidator(estimator = svm_clf, estimatorParamMaps = param_grid, evaluator = f1_evaluation, numFolds = 2)"
   ]
  },
  {
   "cell_type": "code",
   "execution_count": 47,
   "metadata": {},
   "outputs": [
    {
     "data": {
      "text/plain": [
       "[0.7015856802373657]"
      ]
     },
     "execution_count": 47,
     "metadata": {},
     "output_type": "execute_result"
    }
   ],
   "source": [
    "cv_model_svm = cross_val_svm.fit(train)\n",
    "cv_model_svm.avgMetrics"
   ]
  },
  {
   "cell_type": "code",
   "execution_count": 48,
   "metadata": {},
   "outputs": [],
   "source": [
    "res_svm = cv_model_svm.transform(val)"
   ]
  },
  {
   "cell_type": "code",
   "execution_count": 63,
   "metadata": {},
   "outputs": [
    {
     "name": "stdout",
     "output_type": "stream",
     "text": [
      "The metrics for Support Vector Machine classifier are as follows: \n",
      "The F-1 Score is 0.44999999999999996\n",
      "The accuracy is 0.6\n"
     ]
    }
   ],
   "source": [
    "# evaluation metrics for SVM\n",
    "evaluator = MulticlassClassificationEvaluator(predictionCol = \"prediction\")\n",
    "print(\"The metrics for Support Vector Machine classifier are as follows: \")\n",
    "print(\"The F-1 Score is {}\".format(evaluator.evaluate(res_svm, {evaluator.metricName : \"f1\"})))\n",
    "print(\"The accuracy is {}\".format(evaluator.evaluate(res_svm, {evaluator.metricName : \"accuracy\"})))"
   ]
  },
  {
   "cell_type": "code",
   "execution_count": 50,
   "metadata": {},
   "outputs": [],
   "source": [
    "# try the third classifier: Gradient Boosted Trees\n",
    "gbt_clf = GBTClassifier(maxIter = 10, maxDepth = 10, seed = 42)\n",
    "\n",
    "f1_evaluation = MulticlassClassificationEvaluator(metricName = 'f1')\n",
    "param_grid = ParamGridBuilder().build()\n",
    "\n",
    "cross_val_gbt = CrossValidator(estimator = gbt_clf, estimatorParamMaps = param_grid, evaluator = f1_evaluation, numFolds = 2)"
   ]
  },
  {
   "cell_type": "code",
   "execution_count": 51,
   "metadata": {},
   "outputs": [
    {
     "data": {
      "text/plain": [
       "[0.6864907971464512]"
      ]
     },
     "execution_count": 51,
     "metadata": {},
     "output_type": "execute_result"
    }
   ],
   "source": [
    "cv_model_gbt = cross_val_gbt.fit(train)\n",
    "cv_model_gbt.avgMetrics"
   ]
  },
  {
   "cell_type": "code",
   "execution_count": 52,
   "metadata": {},
   "outputs": [],
   "source": [
    "res_gbt = cv_model_gbt.transform(val)"
   ]
  },
  {
   "cell_type": "code",
   "execution_count": 64,
   "metadata": {
    "scrolled": true
   },
   "outputs": [
    {
     "name": "stdout",
     "output_type": "stream",
     "text": [
      "The metrics for our Gradient Boosted Trees Classifier are as follows: \n",
      "The F-1 Score is 0.7809523809523808\n",
      "The accuracy is 0.8\n"
     ]
    }
   ],
   "source": [
    "# evaluation metrics for Gradient Boosted Trees\n",
    "evaluator = MulticlassClassificationEvaluator(predictionCol = \"prediction\")\n",
    "print(\"The metrics for our Gradient Boosted Trees Classifier are as follows: \")\n",
    "print(\"The F-1 Score is {}\".format(evaluator.evaluate(res_gbt, {evaluator.metricName : \"f1\"})))\n",
    "print(\"The accuracy is {}\".format(evaluator.evaluate(res_gbt, {evaluator.metricName : \"accuracy\"})))"
   ]
  },
  {
   "cell_type": "markdown",
   "metadata": {},
   "source": [
    "### Selecting the classifier\n",
    "Comparing the F-1 score and accuracy of the three classifiers, we see that Gradient Boosted Trees - GBT has the highest score.\n",
    "I will select this classifier for the next step: Tuning model"
   ]
  },
  {
   "cell_type": "markdown",
   "metadata": {},
   "source": [
    "### Tuning Hyperparameters"
   ]
  },
  {
   "cell_type": "code",
   "execution_count": 54,
   "metadata": {},
   "outputs": [],
   "source": [
    "# Tuning Hyperparameters for the Gradient Boosting Trees model using Grid Search\n",
    "gbt_clf = GBTClassifier(maxIter = 15, seed = 42)\n",
    "\n",
    "param_grid_gbt = ParamGridBuilder().addGrid(gbt_clf.maxIter, [10, 15, 20])\\\n",
    "                 .addGrid(gbt_clf.maxDepth, [5, 10]).build()\n",
    "\n",
    "f1_evaluation = MulticlassClassificationEvaluator(metricName = 'f1')\n",
    "\n",
    "cross_val_gbt = CrossValidator(estimator = gbt_clf, estimatorParamMaps = param_grid_gbt, evaluator = f1_evaluation, numFolds = 2)"
   ]
  },
  {
   "cell_type": "code",
   "execution_count": 55,
   "metadata": {},
   "outputs": [
    {
     "data": {
      "text/plain": [
       "[0.6982776939311534,\n",
       " 0.6864907971464512,\n",
       " 0.7022407733199691,\n",
       " 0.6864907971464512,\n",
       " 0.7061527660872282,\n",
       " 0.6864907971464512]"
      ]
     },
     "execution_count": 55,
     "metadata": {},
     "output_type": "execute_result"
    }
   ],
   "source": [
    "cv_model_gbt = cross_val_gbt.fit(train)\n",
    "cv_model_gbt.avgMetrics"
   ]
  },
  {
   "cell_type": "code",
   "execution_count": 60,
   "metadata": {},
   "outputs": [],
   "source": [
    "# choosing the parameters with best metrics\n",
    "gbt_final = GBTClassifier(maxIter = 15 , seed = 42, maxDepth = 5)\n",
    "gbt_final_model = gbt_final.fit(train)\n",
    "res_final = gbt_final_model.transform(val)"
   ]
  },
  {
   "cell_type": "code",
   "execution_count": 61,
   "metadata": {},
   "outputs": [
    {
     "name": "stdout",
     "output_type": "stream",
     "text": [
      "The final metrics for our Gradient Boosted Trees Classifier are as follows: \n",
      "The F-1 Score is 0.7809523809523808\n",
      "The accuracy is 0.8\n"
     ]
    }
   ],
   "source": [
    "# Gettting the final evaluation metrics for Gradient Boosted Trees\n",
    "evaluator = MulticlassClassificationEvaluator(predictionCol = \"prediction\")\n",
    "print(\"The final metrics for our Gradient Boosted Trees Classifier are as follows: \")\n",
    "print(\"The F-1 Score is {}\".format(evaluator.evaluate(res_final, {evaluator.metricName : \"f1\"})))\n",
    "print(\"The accuracy is {}\".format(evaluator.evaluate(res_final, {evaluator.metricName : \"accuracy\"})))"
   ]
  },
  {
   "cell_type": "code",
   "execution_count": null,
   "metadata": {},
   "outputs": [],
   "source": []
  },
  {
   "cell_type": "markdown",
   "metadata": {},
   "source": [
    "# Final Steps\n",
    "Clean up your code, adding comments and renaming variables to make the code easier to read and maintain. Refer to the Spark Project Overview page and Data Scientist Capstone Project Rubric to make sure you are including all components of the capstone project and meet all expectations. Remember, this includes thorough documentation in a README file in a Github repository, as well as a web app or blog post."
   ]
  },
  {
   "cell_type": "markdown",
   "metadata": {},
   "source": [
    "# References\n",
    "1. [Apache Spark](https://spark.apache.org/docs/latest/api/python/pyspark.sql.html)\n",
    "2. Data Scientists Guide to Apache Spark, databricks\n"
   ]
  }
 ],
 "metadata": {
  "kernelspec": {
   "display_name": "Python 3",
   "language": "python",
   "name": "python3"
  },
  "language_info": {
   "codemirror_mode": {
    "name": "ipython",
    "version": 3
   },
   "file_extension": ".py",
   "mimetype": "text/x-python",
   "name": "python",
   "nbconvert_exporter": "python",
   "pygments_lexer": "ipython3",
   "version": "3.6.3"
  }
 },
 "nbformat": 4,
 "nbformat_minor": 2
}
